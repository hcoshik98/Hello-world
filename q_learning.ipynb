{
  "nbformat": 4,
  "nbformat_minor": 0,
  "metadata": {
    "colab": {
      "name": "q_learning.ipynb",
      "version": "0.3.2",
      "provenance": [],
      "collapsed_sections": [],
      "toc_visible": true,
      "machine_shape": "hm",
      "include_colab_link": true
    },
    "kernelspec": {
      "name": "python3",
      "display_name": "Python 3"
    },
    "accelerator": "GPU"
  },
  "cells": [
    {
      "cell_type": "markdown",
      "metadata": {
        "id": "view-in-github",
        "colab_type": "text"
      },
      "source": [
        "<a href=\"https://colab.research.google.com/github/hcoshik98/R_Learning/blob/master/q_learning.ipynb\" target=\"_parent\"><img src=\"https://colab.research.google.com/assets/colab-badge.svg\" alt=\"Open In Colab\"/></a>"
      ]
    },
    {
      "cell_type": "code",
      "metadata": {
        "id": "YITI9oD6Rlpr",
        "colab_type": "code",
        "outputId": "4f2f3501-722c-4cc0-9d23-166d0383a8fc",
        "colab": {
          "base_uri": "https://localhost:8080/",
          "height": 261
        }
      },
      "source": [
        "!pip install gym[box2d]"
      ],
      "execution_count": 0,
      "outputs": [
        {
          "output_type": "stream",
          "text": [
            "Requirement already satisfied: gym[box2d] in /usr/local/lib/python3.6/dist-packages (0.10.11)\n",
            "Requirement already satisfied: scipy in /usr/local/lib/python3.6/dist-packages (from gym[box2d]) (1.3.1)\n",
            "Requirement already satisfied: numpy>=1.10.4 in /usr/local/lib/python3.6/dist-packages (from gym[box2d]) (1.16.4)\n",
            "Requirement already satisfied: requests>=2.0 in /usr/local/lib/python3.6/dist-packages (from gym[box2d]) (2.21.0)\n",
            "Requirement already satisfied: pyglet>=1.2.0 in /root/.local/lib/python3.6/site-packages (from gym[box2d]) (1.3.2)\n",
            "Requirement already satisfied: six in /usr/local/lib/python3.6/dist-packages (from gym[box2d]) (1.12.0)\n",
            "Requirement already satisfied: box2d-py>=2.3.5; extra == \"box2d\" in /usr/local/lib/python3.6/dist-packages (from gym[box2d]) (2.3.8)\n",
            "Requirement already satisfied: idna<2.9,>=2.5 in /usr/local/lib/python3.6/dist-packages (from requests>=2.0->gym[box2d]) (2.8)\n",
            "Requirement already satisfied: certifi>=2017.4.17 in /usr/local/lib/python3.6/dist-packages (from requests>=2.0->gym[box2d]) (2019.6.16)\n",
            "Requirement already satisfied: urllib3<1.25,>=1.21.1 in /usr/local/lib/python3.6/dist-packages (from requests>=2.0->gym[box2d]) (1.24.3)\n",
            "Requirement already satisfied: chardet<3.1.0,>=3.0.2 in /usr/local/lib/python3.6/dist-packages (from requests>=2.0->gym[box2d]) (3.0.4)\n",
            "Requirement already satisfied: future in /usr/local/lib/python3.6/dist-packages (from pyglet>=1.2.0->gym[box2d]) (0.16.0)\n"
          ],
          "name": "stdout"
        }
      ]
    },
    {
      "cell_type": "code",
      "metadata": {
        "id": "gHWr8_zDSQaE",
        "colab_type": "code",
        "outputId": "671b8187-c65e-492d-f41d-8d3cab37aacc",
        "colab": {
          "base_uri": "https://localhost:8080/",
          "height": 111
        }
      },
      "source": [
        "!apt-get install python-opengl -y"
      ],
      "execution_count": 0,
      "outputs": [
        {
          "output_type": "stream",
          "text": [
            "Reading package lists... Done\n",
            "Building dependency tree       \n",
            "Reading state information... Done\n",
            "python-opengl is already the newest version (3.1.0+dfsg-1).\n",
            "0 upgraded, 0 newly installed, 0 to remove and 14 not upgraded.\n"
          ],
          "name": "stdout"
        }
      ]
    },
    {
      "cell_type": "code",
      "metadata": {
        "id": "1I2n4zy_SXTf",
        "colab_type": "code",
        "outputId": "3973cfc8-39b6-46f0-a2f8-07d0769dd842",
        "colab": {
          "base_uri": "https://localhost:8080/",
          "height": 111
        }
      },
      "source": [
        "!apt install xvfb -y"
      ],
      "execution_count": 0,
      "outputs": [
        {
          "output_type": "stream",
          "text": [
            "\rReading package lists... 0%\r\rReading package lists... 0%\r\rReading package lists... 0%\r\rReading package lists... 7%\r\rReading package lists... 7%\r\rReading package lists... 7%\r\rReading package lists... 7%\r\rReading package lists... 68%\r\rReading package lists... 68%\r\rReading package lists... 68%\r\rReading package lists... 68%\r\rReading package lists... 74%\r\rReading package lists... 74%\r\rReading package lists... 74%\r\rReading package lists... 74%\r\rReading package lists... 75%\r\rReading package lists... 84%\r\rReading package lists... 84%\r\rReading package lists... 84%\r\rReading package lists... 84%\r\rReading package lists... 84%\r\rReading package lists... 84%\r\rReading package lists... 84%\r\rReading package lists... 84%\r\rReading package lists... 88%\r\rReading package lists... 88%\r\rReading package lists... 88%\r\rReading package lists... 88%\r\rReading package lists... 93%\r\rReading package lists... 93%\r\rReading package lists... 93%\r\rReading package lists... 93%\r\rReading package lists... 94%\r\rReading package lists... 94%\r\rReading package lists... 94%\r\rReading package lists... 94%\r\rReading package lists... 95%\r\rReading package lists... 95%\r\rReading package lists... 98%\r\rReading package lists... 98%\r\rReading package lists... 98%\r\rReading package lists... 98%\r\rReading package lists... Done\r\n",
            "\rBuilding dependency tree... 0%\r\rBuilding dependency tree... 0%\r\rBuilding dependency tree... 50%\r\rBuilding dependency tree... 50%\r\rBuilding dependency tree       \r\n",
            "\rReading state information... 0%\r\rReading state information... 0%\r\rReading state information... Done\r\n",
            "xvfb is already the newest version (2:1.19.6-1ubuntu4.3).\n",
            "0 upgraded, 0 newly installed, 0 to remove and 14 not upgraded.\n"
          ],
          "name": "stdout"
        }
      ]
    },
    {
      "cell_type": "code",
      "metadata": {
        "id": "-ucj3K5RSf8l",
        "colab_type": "code",
        "outputId": "0aa23dca-a31a-4fdb-b537-0d5d62722d95",
        "colab": {
          "base_uri": "https://localhost:8080/",
          "height": 74
        }
      },
      "source": [
        "!pip3 install pyvirtualdisplay"
      ],
      "execution_count": 0,
      "outputs": [
        {
          "output_type": "stream",
          "text": [
            "Requirement already satisfied: pyvirtualdisplay in /usr/local/lib/python3.6/dist-packages (0.2.4)\n",
            "Requirement already satisfied: EasyProcess in /usr/local/lib/python3.6/dist-packages (from pyvirtualdisplay) (0.2.7)\n"
          ],
          "name": "stdout"
        }
      ]
    },
    {
      "cell_type": "code",
      "metadata": {
        "id": "zng3yEzTSqDp",
        "colab_type": "code",
        "outputId": "e38edd4e-b32f-474f-9c9e-69c4e9bbf120",
        "colab": {
          "base_uri": "https://localhost:8080/",
          "height": 168
        }
      },
      "source": [
        "!pip install piglet"
      ],
      "execution_count": 0,
      "outputs": [
        {
          "output_type": "stream",
          "text": [
            "Requirement already satisfied: piglet in /usr/local/lib/python3.6/dist-packages (0.4.4)\n",
            "Requirement already satisfied: attrs in /usr/local/lib/python3.6/dist-packages (from piglet) (19.1.0)\n",
            "Requirement already satisfied: Parsley in /usr/local/lib/python3.6/dist-packages (from piglet) (1.3)\n",
            "Requirement already satisfied: markupsafe in /usr/local/lib/python3.6/dist-packages (from piglet) (1.1.1)\n",
            "Requirement already satisfied: astunparse in /usr/local/lib/python3.6/dist-packages (from piglet) (1.6.2)\n",
            "Requirement already satisfied: wheel<1.0,>=0.23.0 in /usr/local/lib/python3.6/dist-packages (from astunparse->piglet) (0.33.4)\n",
            "Requirement already satisfied: six<2.0,>=1.6.1 in /usr/local/lib/python3.6/dist-packages (from astunparse->piglet) (1.12.0)\n"
          ],
          "name": "stdout"
        }
      ]
    },
    {
      "cell_type": "code",
      "metadata": {
        "id": "lHskRiYJiaQN",
        "colab_type": "code",
        "outputId": "adc55bec-2a3b-459e-8830-f5494b0b51b3",
        "colab": {
          "base_uri": "https://localhost:8080/",
          "height": 74
        }
      },
      "source": [
        "#!pip uninstall pyglet\n",
        "!pip install --user pyglet==1.3.2"
      ],
      "execution_count": 0,
      "outputs": [
        {
          "output_type": "stream",
          "text": [
            "Requirement already satisfied: pyglet==1.3.2 in /root/.local/lib/python3.6/site-packages (1.3.2)\n",
            "Requirement already satisfied: future in /usr/local/lib/python3.6/dist-packages (from pyglet==1.3.2) (0.16.0)\n"
          ],
          "name": "stdout"
        }
      ]
    },
    {
      "cell_type": "code",
      "metadata": {
        "id": "eAO1Pu3oSvvA",
        "colab_type": "code",
        "outputId": "c5759edc-5723-4c3f-e8dd-9ad0be87b8e9",
        "colab": {
          "base_uri": "https://localhost:8080/",
          "height": 74
        }
      },
      "source": [
        "from pyvirtualdisplay import Display\n",
        "display = Display(visible=0, size=(1400, 900))\n",
        "display.start()"
      ],
      "execution_count": 0,
      "outputs": [
        {
          "output_type": "stream",
          "text": [
            "W0825 09:22:09.970431 140596758517632 abstractdisplay.py:151] xdpyinfo was not found, X start can not be checked! Please install xdpyinfo!\n"
          ],
          "name": "stderr"
        },
        {
          "output_type": "execute_result",
          "data": {
            "text/plain": [
              "<Display cmd_param=['Xvfb', '-br', '-nolisten', 'tcp', '-screen', '0', '1400x900x24', ':1009'] cmd=['Xvfb', '-br', '-nolisten', 'tcp', '-screen', '0', '1400x900x24', ':1009'] oserror=None return_code=None stdout=\"None\" stderr=\"None\" timeout_happened=False>"
            ]
          },
          "metadata": {
            "tags": []
          },
          "execution_count": 36
        }
      ]
    },
    {
      "cell_type": "code",
      "metadata": {
        "id": "omhmxArqS6ci",
        "colab_type": "code",
        "colab": {}
      },
      "source": [
        "import piglet\n",
        "import pyglet\n",
        "import numpy as np\n",
        "import matplotlib.pyplot as plt\n",
        "%matplotlib inline\n",
        "\n",
        "# This code creates a virtual display to draw game images on. \n",
        "# If you are running locally, just ignore it\n",
        "import os\n",
        "if type(os.environ.get(\"DISPLAY\")) is not str or len(os.environ.get(\"DISPLAY\"))==0:\n",
        "    !bash ../xvfb start\n",
        "    %env DISPLAY=:1"
      ],
      "execution_count": 0,
      "outputs": []
    },
    {
      "cell_type": "markdown",
      "metadata": {
        "id": "ZgwBG7GvTGuv",
        "colab_type": "text"
      },
      "source": [
        "\n",
        "**OpenAI Gym**\n",
        "\n",
        "We're gonna spend several next weeks learning algorithms that solve decision processes. We are then in need of some interesting decision problems to test our algorithms.\n",
        "\n",
        "That's where OpenAI gym comes into play. It's a python library that wraps many classical decision problems including robot control, videogames and board games.\n",
        "\n",
        "So here's how it works:\n"
      ]
    },
    {
      "cell_type": "code",
      "metadata": {
        "id": "i7L4OrcvS_qK",
        "colab_type": "code",
        "outputId": "91749e5c-d727-474f-d5b1-d6fb66169e2f",
        "colab": {
          "base_uri": "https://localhost:8080/",
          "height": 306
        }
      },
      "source": [
        "import gym\n",
        "env = gym.make(\"LunarLander-v2\")\n",
        "\n",
        "plt.imshow(env.render('rgb_array'))\n",
        "\n",
        "state_dim=env.observation_space.shape\n",
        "print(\"Observation space dim:\", state_dim)\n",
        "n_action= env.action_space.n\n",
        "print(\"Action space shape:\", n_action)"
      ],
      "execution_count": 0,
      "outputs": [
        {
          "output_type": "stream",
          "text": [
            "Observation space dim: (8,)\n",
            "Action space shape: 4\n"
          ],
          "name": "stdout"
        },
        {
          "output_type": "display_data",
          "data": {
            "image/png": "[encoded data removed]",
            "text/plain": [
              "<Figure size 432x288 with 1 Axes>"
            ]
          },
          "metadata": {
            "tags": []
          }
        }
      ]
    },
    {
      "cell_type": "markdown",
      "metadata": {
        "id": "jz0VQUIbUQYI",
        "colab_type": "text"
      },
      "source": [
        "reset() - reset environment to initial state, return first observation\n",
        "\n",
        "render() - show current environment state (a more colorful version :) )\n",
        "\n",
        "step(a) - commit action a and return (new observation, reward, is done, info)\n"
      ]
    },
    {
      "cell_type": "code",
      "metadata": {
        "id": "Enw8EtiQTj1E",
        "colab_type": "code",
        "outputId": "c752562b-d40e-4225-f734-6c89c6dd9744",
        "colab": {
          "base_uri": "https://localhost:8080/",
          "height": 74
        }
      },
      "source": [
        "obs0 = env.reset()\n",
        "print(\"initial observation code:\", obs0)\n",
        "\n",
        "# Note: in MountainCar, observation is just two numbers: car position and velocity"
      ],
      "execution_count": 0,
      "outputs": [
        {
          "output_type": "stream",
          "text": [
            "initial observation code: [ 0.00246687  1.4069852   0.24984276 -0.17488948 -0.00285162 -0.05659312\n",
            "  0.          0.        ]\n"
          ],
          "name": "stdout"
        }
      ]
    },
    {
      "cell_type": "code",
      "metadata": {
        "id": "RDSKvE2fUb_J",
        "colab_type": "code",
        "outputId": "c09f034a-604a-4366-e967-c1cce604ff89",
        "colab": {
          "base_uri": "https://localhost:8080/",
          "height": 168
        }
      },
      "source": [
        "print(\"taking action 2 (right)\")\n",
        "new_obs, reward, is_done, _ = env.step(2)\n",
        "\n",
        "print(\"new observation code:\", new_obs)\n",
        "print(\"reward:\", reward)\n",
        "print(\"is game over?:\", is_done)\n",
        "\n",
        "# Note: as you can see, the car has moved to the riht slightly (around 0.0005)\n",
        "import tensorflow as tf\n",
        "import keras\n",
        "import keras.layers as L\n",
        "tf.reset_default_graph()\n",
        "sess=tf.InteractiveSession()\n",
        "keras.backend.set_session(sess)"
      ],
      "execution_count": 0,
      "outputs": [
        {
          "output_type": "stream",
          "text": [
            "taking action 2 (right)\n",
            "new observation code: [ 0.0048296   1.403892    0.23962042 -0.13748403 -0.00616149 -0.06620296\n",
            "  0.          0.        ]\n",
            "reward: 2.548833062672924\n",
            "is game over?: False\n"
          ],
          "name": "stdout"
        },
        {
          "output_type": "stream",
          "text": [
            "/usr/local/lib/python3.6/dist-packages/tensorflow/python/client/session.py:1735: UserWarning: An interactive session is already active. This can cause out-of-memory errors in some cases. You must explicitly call `InteractiveSession.close()` to release resources held by the other session(s).\n",
            "  warnings.warn('An interactive session is already active. This can '\n"
          ],
          "name": "stderr"
        }
      ]
    },
    {
      "cell_type": "code",
      "metadata": {
        "id": "otBt3YuVfUhs",
        "colab_type": "code",
        "outputId": "e115e113-22f4-45ef-fcf7-8f7b971ec0ae",
        "colab": {
          "base_uri": "https://localhost:8080/",
          "height": 36
        }
      },
      "source": [
        "agent=keras.models.Sequential()\n",
        "print((2*state_dim[0],))\n",
        "Layer1=agent.add(L.InputLayer((2*state_dim[0],)))\n",
        "Layer2=agent.add(L.Dense(100,activation='relu'))\n",
        "Layer3=agent.add(L.Dense(100,activation='relu'))\n",
        "Layer4=agent.add(L.Dense(n_action ,activation='softmax'))\n",
        "\n",
        "agent2=keras.models.Sequential()\n",
        "Layer12=agent2.add(L.InputLayer((2*state_dim[0],)))\n",
        "Layer22=agent2.add(L.Dense(100,activation='relu'))\n",
        "Layer32=agent2.add(L.Dense(100,activation='relu'))\n",
        "Layer42=agent2.add(L.Dense(n_action ,activation='softmax'))"
      ],
      "execution_count": 0,
      "outputs": [
        {
          "output_type": "stream",
          "text": [
            "(16,)\n"
          ],
          "name": "stdout"
        }
      ]
    },
    {
      "cell_type": "code",
      "metadata": {
        "id": "aF9UZOr49FQo",
        "colab_type": "code",
        "colab": {}
      },
      "source": [
        "def get_action(s, epsilon):\n",
        "  q_values=agent.predict(s[None])[0]\n",
        "  q_values2=agent2.predict(s[None])[0]\n",
        "  \n",
        "  expl=np.random.random()\n",
        "  if expl<epsilon:\n",
        "    action= np.random.choice(n_action,1)[0]\n",
        "  else:\n",
        "    action=np.argmax(q_values + q_values2)\n",
        "  return action\n",
        "    "
      ],
      "execution_count": 0,
      "outputs": []
    },
    {
      "cell_type": "markdown",
      "metadata": {
        "id": "zJkLl2Kh-Cwc",
        "colab_type": "text"
      },
      "source": [
        ""
      ]
    },
    {
      "cell_type": "code",
      "metadata": {
        "id": "gOo1MIEC-DYi",
        "colab_type": "code",
        "colab": {}
      },
      "source": [
        "#create placeholder for training\n",
        "state_ph= tf.placeholder('float32', shape=(None,)+ (2*state_dim[0],))\n",
        "action_ph= tf.placeholder('int32', shape=[None])\n",
        "reward_ph= tf.placeholder('float32', shape=[None])\n",
        "next_st_q= tf.placeholder('float32', shape=[None])\n",
        "next_st_q2= tf.placeholder('float32', shape=[None])\n",
        "next_state_ph= tf.placeholder('float32', shape=(None,)+ (2*state_dim[0],))\n",
        "is_done_ph= tf.placeholder('bool', shape=[None])"
      ],
      "execution_count": 0,
      "outputs": []
    },
    {
      "cell_type": "markdown",
      "metadata": {
        "id": "U_Hj2FOcAS_E",
        "colab_type": "text"
      },
      "source": [
        ""
      ]
    },
    {
      "cell_type": "code",
      "metadata": {
        "id": "xqBDaCyaATpu",
        "colab_type": "code",
        "colab": {}
      },
      "source": [
        "pred_q= agent(state_ph)\n",
        "pred_q2= agent2(state_ph)\n",
        "\n",
        "pred_qvalues1 = tf.reduce_sum(pred_q*tf.one_hot(action_ph, n_action), axis=1)\n",
        "pred_qvalues2 = tf.reduce_sum(pred_q2*tf.one_hot(action_ph, n_action), axis=1)"
      ],
      "execution_count": 0,
      "outputs": []
    },
    {
      "cell_type": "markdown",
      "metadata": {
        "id": "yqHf6p0lD3pp",
        "colab_type": "text"
      },
      "source": [
        ""
      ]
    },
    {
      "cell_type": "code",
      "metadata": {
        "id": "HIRIPOmZD4Gd",
        "colab_type": "code",
        "colab": {}
      },
      "source": [
        "gamma=0.7\n",
        "#q_values for next state\n",
        "#next_st_q= agent(next_state_ph)\n",
        "#next_st_q2= agent2(next_state_ph)\n",
        "target_q= reward_ph  + gamma*next_st_q#(tf.argmax(next_st_q2))\n",
        "target_q2= reward_ph + gamma*next_st_q2#(tf.argmax(next_st_q2))\n",
        "\n",
        "target_q = tf.where(is_done, reward_ph, target_q)\n",
        "target_q2 = tf.where(is_done, reward_ph, target_q2)"
      ],
      "execution_count": 0,
      "outputs": []
    },
    {
      "cell_type": "code",
      "metadata": {
        "id": "98HMaR3HFg4J",
        "colab_type": "code",
        "colab": {}
      },
      "source": [
        "loss1= (tf.stop_gradient(target_q)- pred_qvalues1)**2\n",
        "loss1= tf.reduce_mean(loss1)\n",
        "loss2= (tf.stop_gradient(target_q2)- pred_qvalues2)**2\n",
        "loss2= tf.reduce_mean(loss2)\n",
        "\n",
        "train_step1= tf.train.AdamOptimizer(1e-4).minimize(loss1)\n",
        "train_step2= tf.train.AdamOptimizer(1e-4).minimize(loss2)"
      ],
      "execution_count": 0,
      "outputs": []
    },
    {
      "cell_type": "markdown",
      "metadata": {
        "id": "21GHzMahU2fs",
        "colab_type": "text"
      },
      "source": [
        "# Time to play\n",
        "\n",
        "Try tweaking t or action strategy\n",
        "\n",
        "**Remember**: Target is to reach to flag"
      ]
    },
    {
      "cell_type": "code",
      "metadata": {
        "id": "jnrzvKnBKMq6",
        "colab_type": "code",
        "colab": {}
      },
      "source": [
        "def generate_session(t_max=1000, epsilon=0, train=True):\n",
        "  import time\n",
        "  total_reward=0\n",
        "  s = env.reset()\n",
        "  see = 0\n",
        "  pre_st= [0, 0, 0, 0, 0, 0, 0, 0]\n",
        "\n",
        "  for t in range(t_max):\n",
        "    pre = np.concatenate((pre_st,s))\n",
        "    a=get_action(pre, epsilon)\n",
        "    \n",
        "    next_s,r,is_done,_ = env.step(a)\n",
        "    new = np.concatenate((s, next_s))\n",
        "    q1= agent.predict(new[None])[0]\n",
        "    q2= agent2.predict(new[None])[0]\n",
        "    qa1= q1[np.argmax(q2)]\n",
        "    qa2= q2[np.argmax(q1)]\n",
        "    \n",
        "    if train:\n",
        "      prob=np.random.random()\n",
        "      if prob<0.8:\n",
        "        sess.run(train_step1, {state_ph: [pre], action_ph: [a], reward_ph: [r],next_st_q:[qa1],\n",
        "                               next_st_q2:[qa2], next_state_ph: [new], is_done_ph: [is_done]})\n",
        "      else:\n",
        "        sess.run(train_step2, {state_ph: [pre], action_ph: [a], reward_ph: [r],next_st_q:[qa1],\n",
        "                               next_st_q2:[qa2], next_state_ph: [new], is_done_ph: [is_done]})\n",
        "\n",
        "    total_reward+=r\n",
        "    pre_st=s\n",
        "    s=next_s\n",
        "    if t%10==0:\n",
        "      '''fig=plt.imshow(env.render('rgb_array'))\n",
        "      plt.show(fig)\n",
        "      time.sleep(0.01)\n",
        "      plt.close('all')'''\n",
        "    \n",
        "    #plt.imshow(env.render('rgb_array'))\n",
        "    if is_done:\n",
        "      \n",
        "      see+=1\n",
        "      break\n",
        "  \n",
        "\n",
        "  return total_reward"
      ],
      "execution_count": 0,
      "outputs": []
    },
    {
      "cell_type": "code",
      "metadata": {
        "id": "X5hF5scINGyP",
        "colab_type": "code",
        "colab": {}
      },
      "source": [
        "epsilon=0.5"
      ],
      "execution_count": 0,
      "outputs": []
    },
    {
      "cell_type": "code",
      "metadata": {
        "id": "F2TFUMJ_UyJc",
        "colab_type": "code",
        "outputId": "bb0429f1-d5c3-45e0-cdc6-515a616d597c",
        "colab": {
          "base_uri": "https://localhost:8080/",
          "height": 1000
        }
      },
      "source": [
        "\n",
        "for i in range(600):\n",
        "  session_rewards= [generate_session(epsilon=epsilon, train=True) for _ in range(10)]\n",
        "  print(\"epoch #{}\\tmean reward = {:.3f}\\tepsilon = {:.3f}\".format(i, np.mean(session_rewards),\n",
        "                                                                   epsilon))\n",
        "\n",
        "  #plt.imshow(env.render('rgb_array'))\n",
        "  epsilon*=0.99\n",
        "  assert epsilon >= 1e-4, \"Make sure epsilon is always nonzero during training\"\n",
        "    \n",
        "  if np.mean(session_rewards) < -100 and epsilon < 0.01:\n",
        "      epsilon = 0.3\n",
        "    \n",
        "  if np.mean(session_rewards) > 10:\n",
        "      print (\"You Win!\")\n",
        "      break"
      ],
      "execution_count": 0,
      "outputs": [
        {
          "output_type": "stream",
          "text": [
            "epoch #0\tmean reward = -250.724\tepsilon = 0.500\n",
            "epoch #1\tmean reward = -101.817\tepsilon = 0.495\n",
            "epoch #2\tmean reward = -169.213\tepsilon = 0.490\n",
            "epoch #3\tmean reward = -230.688\tepsilon = 0.485\n",
            "epoch #4\tmean reward = -132.603\tepsilon = 0.480\n",
            "epoch #5\tmean reward = -152.021\tepsilon = 0.475\n",
            "epoch #6\tmean reward = -209.672\tepsilon = 0.471\n",
            "epoch #7\tmean reward = -111.895\tepsilon = 0.466\n",
            "epoch #8\tmean reward = -129.971\tepsilon = 0.461\n",
            "epoch #9\tmean reward = -161.959\tepsilon = 0.457\n",
            "epoch #10\tmean reward = -132.255\tepsilon = 0.452\n",
            "epoch #11\tmean reward = -122.230\tepsilon = 0.448\n",
            "epoch #12\tmean reward = -144.843\tepsilon = 0.443\n",
            "epoch #13\tmean reward = -124.031\tepsilon = 0.439\n",
            "epoch #14\tmean reward = -140.924\tepsilon = 0.434\n",
            "epoch #15\tmean reward = -119.026\tepsilon = 0.430\n",
            "epoch #16\tmean reward = -162.341\tepsilon = 0.426\n",
            "epoch #17\tmean reward = -145.205\tepsilon = 0.421\n",
            "epoch #18\tmean reward = -101.655\tepsilon = 0.417\n",
            "epoch #19\tmean reward = -145.617\tepsilon = 0.413\n",
            "epoch #20\tmean reward = -169.149\tepsilon = 0.409\n",
            "epoch #21\tmean reward = -128.057\tepsilon = 0.405\n",
            "epoch #22\tmean reward = -189.936\tepsilon = 0.401\n",
            "epoch #23\tmean reward = -183.584\tepsilon = 0.397\n",
            "epoch #24\tmean reward = -139.257\tepsilon = 0.393\n",
            "epoch #25\tmean reward = -136.277\tepsilon = 0.389\n",
            "epoch #26\tmean reward = -201.630\tepsilon = 0.385\n",
            "epoch #27\tmean reward = -130.343\tepsilon = 0.381\n",
            "epoch #28\tmean reward = -160.597\tepsilon = 0.377\n",
            "epoch #29\tmean reward = -169.087\tepsilon = 0.374\n",
            "epoch #30\tmean reward = -177.706\tepsilon = 0.370\n",
            "epoch #31\tmean reward = -161.896\tepsilon = 0.366\n",
            "epoch #32\tmean reward = -224.890\tepsilon = 0.362\n",
            "epoch #33\tmean reward = -132.963\tepsilon = 0.359\n",
            "epoch #34\tmean reward = -121.806\tepsilon = 0.355\n",
            "epoch #35\tmean reward = -169.939\tepsilon = 0.352\n",
            "epoch #36\tmean reward = -144.892\tepsilon = 0.348\n",
            "epoch #37\tmean reward = -135.571\tepsilon = 0.345\n",
            "epoch #38\tmean reward = -224.580\tepsilon = 0.341\n",
            "epoch #39\tmean reward = -212.112\tepsilon = 0.338\n",
            "epoch #40\tmean reward = -162.485\tepsilon = 0.334\n",
            "epoch #41\tmean reward = -193.771\tepsilon = 0.331\n",
            "epoch #42\tmean reward = -272.452\tepsilon = 0.328\n",
            "epoch #43\tmean reward = -168.369\tepsilon = 0.325\n",
            "epoch #44\tmean reward = -181.718\tepsilon = 0.321\n",
            "epoch #45\tmean reward = -184.271\tepsilon = 0.318\n",
            "epoch #46\tmean reward = -198.543\tepsilon = 0.315\n",
            "epoch #47\tmean reward = -287.640\tepsilon = 0.312\n",
            "epoch #48\tmean reward = -169.389\tepsilon = 0.309\n",
            "epoch #49\tmean reward = -146.362\tepsilon = 0.306\n",
            "epoch #50\tmean reward = -254.315\tepsilon = 0.303\n",
            "epoch #51\tmean reward = -193.372\tepsilon = 0.299\n",
            "epoch #52\tmean reward = -212.188\tepsilon = 0.296\n",
            "epoch #53\tmean reward = -199.984\tepsilon = 0.294\n",
            "epoch #54\tmean reward = -203.838\tepsilon = 0.291\n",
            "epoch #55\tmean reward = -173.038\tepsilon = 0.288\n",
            "epoch #56\tmean reward = -368.924\tepsilon = 0.285\n",
            "epoch #57\tmean reward = -225.956\tepsilon = 0.282\n",
            "epoch #58\tmean reward = -199.638\tepsilon = 0.279\n",
            "epoch #59\tmean reward = -158.466\tepsilon = 0.276\n",
            "epoch #60\tmean reward = -220.075\tepsilon = 0.274\n",
            "epoch #61\tmean reward = -194.872\tepsilon = 0.271\n",
            "epoch #62\tmean reward = -235.554\tepsilon = 0.268\n",
            "epoch #63\tmean reward = -200.547\tepsilon = 0.265\n",
            "epoch #64\tmean reward = -326.503\tepsilon = 0.263\n",
            "epoch #65\tmean reward = -200.382\tepsilon = 0.260\n",
            "epoch #66\tmean reward = -280.085\tepsilon = 0.258\n",
            "epoch #67\tmean reward = -218.090\tepsilon = 0.255\n",
            "epoch #68\tmean reward = -320.601\tepsilon = 0.252\n",
            "epoch #69\tmean reward = -249.675\tepsilon = 0.250\n",
            "epoch #70\tmean reward = -199.373\tepsilon = 0.247\n",
            "epoch #71\tmean reward = -327.461\tepsilon = 0.245\n",
            "epoch #72\tmean reward = -274.271\tepsilon = 0.242\n",
            "epoch #73\tmean reward = -287.925\tepsilon = 0.240\n",
            "epoch #74\tmean reward = -274.505\tepsilon = 0.238\n",
            "epoch #75\tmean reward = -246.853\tepsilon = 0.235\n",
            "epoch #76\tmean reward = -234.724\tepsilon = 0.233\n",
            "epoch #77\tmean reward = -385.198\tepsilon = 0.231\n",
            "epoch #78\tmean reward = -227.328\tepsilon = 0.228\n",
            "epoch #79\tmean reward = -233.979\tepsilon = 0.226\n",
            "epoch #80\tmean reward = -268.687\tepsilon = 0.224\n",
            "epoch #81\tmean reward = -235.744\tepsilon = 0.222\n",
            "epoch #82\tmean reward = -241.045\tepsilon = 0.219\n",
            "epoch #83\tmean reward = -350.782\tepsilon = 0.217\n",
            "epoch #84\tmean reward = -359.566\tepsilon = 0.215\n",
            "epoch #85\tmean reward = -326.035\tepsilon = 0.213\n",
            "epoch #86\tmean reward = -223.796\tepsilon = 0.211\n",
            "epoch #87\tmean reward = -217.930\tepsilon = 0.209\n",
            "epoch #88\tmean reward = -281.689\tepsilon = 0.206\n",
            "epoch #89\tmean reward = -289.970\tepsilon = 0.204\n",
            "epoch #90\tmean reward = -176.753\tepsilon = 0.202\n",
            "epoch #91\tmean reward = -249.808\tepsilon = 0.200\n",
            "epoch #92\tmean reward = -293.400\tepsilon = 0.198\n",
            "epoch #93\tmean reward = -264.347\tepsilon = 0.196\n",
            "epoch #94\tmean reward = -334.980\tepsilon = 0.194\n",
            "epoch #95\tmean reward = -324.003\tepsilon = 0.192\n",
            "epoch #96\tmean reward = -269.535\tepsilon = 0.191\n",
            "epoch #97\tmean reward = -299.857\tepsilon = 0.189\n",
            "epoch #98\tmean reward = -204.149\tepsilon = 0.187\n",
            "epoch #99\tmean reward = -279.444\tepsilon = 0.185\n",
            "epoch #100\tmean reward = -268.052\tepsilon = 0.183\n",
            "epoch #101\tmean reward = -372.768\tepsilon = 0.181\n",
            "epoch #102\tmean reward = -284.832\tepsilon = 0.179\n",
            "epoch #103\tmean reward = -334.269\tepsilon = 0.178\n",
            "epoch #104\tmean reward = -247.619\tepsilon = 0.176\n",
            "epoch #105\tmean reward = -266.133\tepsilon = 0.174\n",
            "epoch #106\tmean reward = -245.752\tepsilon = 0.172\n",
            "epoch #107\tmean reward = -300.324\tepsilon = 0.171\n",
            "epoch #108\tmean reward = -310.069\tepsilon = 0.169\n",
            "epoch #109\tmean reward = -308.014\tepsilon = 0.167\n",
            "epoch #110\tmean reward = -163.212\tepsilon = 0.166\n",
            "epoch #111\tmean reward = -216.784\tepsilon = 0.164\n",
            "epoch #112\tmean reward = -211.969\tepsilon = 0.162\n",
            "epoch #113\tmean reward = -259.061\tepsilon = 0.161\n",
            "epoch #114\tmean reward = -221.556\tepsilon = 0.159\n",
            "epoch #115\tmean reward = -262.665\tepsilon = 0.157\n",
            "epoch #116\tmean reward = -296.638\tepsilon = 0.156\n",
            "epoch #117\tmean reward = -209.212\tepsilon = 0.154\n",
            "epoch #118\tmean reward = -408.825\tepsilon = 0.153\n",
            "epoch #119\tmean reward = -294.737\tepsilon = 0.151\n",
            "epoch #120\tmean reward = -207.913\tepsilon = 0.150\n",
            "epoch #121\tmean reward = -262.746\tepsilon = 0.148\n",
            "epoch #122\tmean reward = -261.711\tepsilon = 0.147\n",
            "epoch #123\tmean reward = -273.896\tepsilon = 0.145\n",
            "epoch #124\tmean reward = -239.804\tepsilon = 0.144\n",
            "epoch #125\tmean reward = -315.562\tepsilon = 0.142\n",
            "epoch #126\tmean reward = -259.376\tepsilon = 0.141\n",
            "epoch #127\tmean reward = -255.509\tepsilon = 0.140\n",
            "epoch #128\tmean reward = -272.215\tepsilon = 0.138\n",
            "epoch #129\tmean reward = -383.181\tepsilon = 0.137\n",
            "epoch #130\tmean reward = -234.601\tepsilon = 0.135\n",
            "epoch #131\tmean reward = -238.229\tepsilon = 0.134\n",
            "epoch #132\tmean reward = -337.253\tepsilon = 0.133\n",
            "epoch #133\tmean reward = -361.493\tepsilon = 0.131\n",
            "epoch #134\tmean reward = -238.716\tepsilon = 0.130\n",
            "epoch #135\tmean reward = -197.471\tepsilon = 0.129\n",
            "epoch #136\tmean reward = -277.874\tepsilon = 0.127\n",
            "epoch #137\tmean reward = -259.039\tepsilon = 0.126\n",
            "epoch #138\tmean reward = -250.903\tepsilon = 0.125\n",
            "epoch #139\tmean reward = -272.768\tepsilon = 0.124\n",
            "epoch #140\tmean reward = -261.834\tepsilon = 0.122\n",
            "epoch #141\tmean reward = -295.496\tepsilon = 0.121\n",
            "epoch #142\tmean reward = -243.523\tepsilon = 0.120\n",
            "epoch #143\tmean reward = -268.692\tepsilon = 0.119\n",
            "epoch #144\tmean reward = -232.910\tepsilon = 0.118\n",
            "epoch #145\tmean reward = -202.746\tepsilon = 0.116\n",
            "epoch #146\tmean reward = -257.241\tepsilon = 0.115\n",
            "epoch #147\tmean reward = -244.945\tepsilon = 0.114\n",
            "epoch #148\tmean reward = -210.270\tepsilon = 0.113\n",
            "epoch #149\tmean reward = -244.262\tepsilon = 0.112\n",
            "epoch #150\tmean reward = -241.240\tepsilon = 0.111\n",
            "epoch #151\tmean reward = -189.185\tepsilon = 0.110\n",
            "epoch #152\tmean reward = -276.486\tepsilon = 0.109\n",
            "epoch #153\tmean reward = -266.639\tepsilon = 0.107\n",
            "epoch #154\tmean reward = -240.436\tepsilon = 0.106\n",
            "epoch #155\tmean reward = -273.731\tepsilon = 0.105\n",
            "epoch #156\tmean reward = -295.053\tepsilon = 0.104\n",
            "epoch #157\tmean reward = -278.122\tepsilon = 0.103\n",
            "epoch #158\tmean reward = -186.897\tepsilon = 0.102\n",
            "epoch #159\tmean reward = -344.652\tepsilon = 0.101\n",
            "epoch #160\tmean reward = -293.982\tepsilon = 0.100\n",
            "epoch #161\tmean reward = -272.642\tepsilon = 0.099\n",
            "epoch #162\tmean reward = -228.111\tepsilon = 0.098\n",
            "epoch #163\tmean reward = -194.410\tepsilon = 0.097\n",
            "epoch #164\tmean reward = -227.663\tepsilon = 0.096\n",
            "epoch #165\tmean reward = -204.302\tepsilon = 0.095\n",
            "epoch #166\tmean reward = -284.150\tepsilon = 0.094\n",
            "epoch #167\tmean reward = -210.448\tepsilon = 0.093\n",
            "epoch #168\tmean reward = -198.793\tepsilon = 0.092\n",
            "epoch #169\tmean reward = -178.142\tepsilon = 0.091\n",
            "epoch #170\tmean reward = -289.992\tepsilon = 0.091\n",
            "epoch #171\tmean reward = -216.465\tepsilon = 0.090\n",
            "epoch #172\tmean reward = -243.095\tepsilon = 0.089\n",
            "epoch #173\tmean reward = -155.397\tepsilon = 0.088\n",
            "epoch #174\tmean reward = -157.863\tepsilon = 0.087\n",
            "epoch #175\tmean reward = -346.312\tepsilon = 0.086\n",
            "epoch #176\tmean reward = -293.021\tepsilon = 0.085\n",
            "epoch #177\tmean reward = -239.995\tepsilon = 0.084\n",
            "epoch #178\tmean reward = -276.696\tepsilon = 0.084\n",
            "epoch #179\tmean reward = -222.460\tepsilon = 0.083\n",
            "epoch #180\tmean reward = -288.799\tepsilon = 0.082\n",
            "epoch #181\tmean reward = -182.196\tepsilon = 0.081\n",
            "epoch #182\tmean reward = -291.691\tepsilon = 0.080\n",
            "epoch #183\tmean reward = -268.252\tepsilon = 0.079\n",
            "epoch #184\tmean reward = -170.679\tepsilon = 0.079\n",
            "epoch #185\tmean reward = -223.341\tepsilon = 0.078\n",
            "epoch #186\tmean reward = -201.215\tepsilon = 0.077\n",
            "epoch #187\tmean reward = -218.919\tepsilon = 0.076\n",
            "epoch #188\tmean reward = -265.744\tepsilon = 0.076\n",
            "epoch #189\tmean reward = -353.861\tepsilon = 0.075\n",
            "epoch #190\tmean reward = -247.284\tepsilon = 0.074\n",
            "epoch #191\tmean reward = -305.750\tepsilon = 0.073\n",
            "epoch #192\tmean reward = -232.545\tepsilon = 0.073\n",
            "epoch #193\tmean reward = -200.527\tepsilon = 0.072\n",
            "epoch #194\tmean reward = -280.979\tepsilon = 0.071\n",
            "epoch #195\tmean reward = -245.470\tepsilon = 0.070\n",
            "epoch #196\tmean reward = -235.323\tepsilon = 0.070\n",
            "epoch #197\tmean reward = -248.327\tepsilon = 0.069\n",
            "epoch #198\tmean reward = -237.706\tepsilon = 0.068\n",
            "epoch #199\tmean reward = -235.811\tepsilon = 0.068\n",
            "epoch #200\tmean reward = -269.023\tepsilon = 0.067\n",
            "epoch #201\tmean reward = -310.497\tepsilon = 0.066\n",
            "epoch #202\tmean reward = -207.896\tepsilon = 0.066\n",
            "epoch #203\tmean reward = -229.919\tepsilon = 0.065\n",
            "epoch #204\tmean reward = -252.950\tepsilon = 0.064\n",
            "epoch #205\tmean reward = -186.849\tepsilon = 0.064\n",
            "epoch #206\tmean reward = -202.395\tepsilon = 0.063\n",
            "epoch #207\tmean reward = -229.193\tepsilon = 0.062\n",
            "epoch #208\tmean reward = -282.765\tepsilon = 0.062\n",
            "epoch #209\tmean reward = -275.568\tepsilon = 0.061\n",
            "epoch #210\tmean reward = -268.809\tepsilon = 0.061\n",
            "epoch #211\tmean reward = -265.158\tepsilon = 0.060\n",
            "epoch #212\tmean reward = -289.330\tepsilon = 0.059\n",
            "epoch #213\tmean reward = -160.914\tepsilon = 0.059\n",
            "epoch #214\tmean reward = -243.398\tepsilon = 0.058\n",
            "epoch #215\tmean reward = -173.003\tepsilon = 0.058\n",
            "epoch #216\tmean reward = -199.225\tepsilon = 0.057\n",
            "epoch #217\tmean reward = -184.647\tepsilon = 0.056\n",
            "epoch #218\tmean reward = -166.258\tepsilon = 0.056\n",
            "epoch #219\tmean reward = -265.174\tepsilon = 0.055\n",
            "epoch #220\tmean reward = -222.734\tepsilon = 0.055\n",
            "epoch #221\tmean reward = -281.493\tepsilon = 0.054\n",
            "epoch #222\tmean reward = -353.644\tepsilon = 0.054\n",
            "epoch #223\tmean reward = -268.327\tepsilon = 0.053\n",
            "epoch #224\tmean reward = -233.953\tepsilon = 0.053\n",
            "epoch #225\tmean reward = -267.569\tepsilon = 0.052\n",
            "epoch #226\tmean reward = -210.236\tepsilon = 0.052\n",
            "epoch #227\tmean reward = -301.679\tepsilon = 0.051\n",
            "epoch #228\tmean reward = -177.886\tepsilon = 0.051\n",
            "epoch #229\tmean reward = -244.171\tepsilon = 0.050\n",
            "epoch #230\tmean reward = -375.422\tepsilon = 0.050\n",
            "epoch #231\tmean reward = -268.713\tepsilon = 0.049\n",
            "epoch #232\tmean reward = -260.445\tepsilon = 0.049\n",
            "epoch #233\tmean reward = -227.604\tepsilon = 0.048\n",
            "epoch #234\tmean reward = -263.158\tepsilon = 0.048\n",
            "epoch #235\tmean reward = -266.007\tepsilon = 0.047\n",
            "epoch #236\tmean reward = -191.843\tepsilon = 0.047\n",
            "epoch #237\tmean reward = -245.884\tepsilon = 0.046\n",
            "epoch #238\tmean reward = -249.515\tepsilon = 0.046\n",
            "epoch #239\tmean reward = -221.740\tepsilon = 0.045\n",
            "epoch #240\tmean reward = -234.858\tepsilon = 0.045\n",
            "epoch #241\tmean reward = -280.544\tepsilon = 0.044\n",
            "epoch #242\tmean reward = -226.418\tepsilon = 0.044\n",
            "epoch #243\tmean reward = -192.070\tepsilon = 0.043\n",
            "epoch #244\tmean reward = -197.253\tepsilon = 0.043\n",
            "epoch #245\tmean reward = -289.315\tepsilon = 0.043\n",
            "epoch #246\tmean reward = -254.994\tepsilon = 0.042\n",
            "epoch #247\tmean reward = -165.373\tepsilon = 0.042\n",
            "epoch #248\tmean reward = -223.573\tepsilon = 0.041\n",
            "epoch #249\tmean reward = -296.380\tepsilon = 0.041\n",
            "epoch #250\tmean reward = -199.036\tepsilon = 0.041\n",
            "epoch #251\tmean reward = -171.783\tepsilon = 0.040\n",
            "epoch #252\tmean reward = -198.126\tepsilon = 0.040\n",
            "epoch #253\tmean reward = -191.836\tepsilon = 0.039\n",
            "epoch #254\tmean reward = -226.421\tepsilon = 0.039\n",
            "epoch #255\tmean reward = -240.329\tepsilon = 0.039\n",
            "epoch #256\tmean reward = -205.285\tepsilon = 0.038\n",
            "epoch #257\tmean reward = -296.534\tepsilon = 0.038\n",
            "epoch #258\tmean reward = -338.634\tepsilon = 0.037\n",
            "epoch #259\tmean reward = -303.794\tepsilon = 0.037\n",
            "epoch #260\tmean reward = -261.325\tepsilon = 0.037\n",
            "epoch #261\tmean reward = -284.797\tepsilon = 0.036\n",
            "epoch #262\tmean reward = -245.827\tepsilon = 0.036\n",
            "epoch #263\tmean reward = -304.563\tepsilon = 0.036\n",
            "epoch #264\tmean reward = -253.132\tepsilon = 0.035\n",
            "epoch #265\tmean reward = -205.098\tepsilon = 0.035\n",
            "epoch #266\tmean reward = -168.127\tepsilon = 0.035\n",
            "epoch #267\tmean reward = -215.327\tepsilon = 0.034\n",
            "epoch #268\tmean reward = -258.919\tepsilon = 0.034\n",
            "epoch #269\tmean reward = -239.150\tepsilon = 0.033\n",
            "epoch #270\tmean reward = -239.365\tepsilon = 0.033\n",
            "epoch #271\tmean reward = -247.315\tepsilon = 0.033\n",
            "epoch #272\tmean reward = -232.003\tepsilon = 0.032\n",
            "epoch #273\tmean reward = -287.781\tepsilon = 0.032\n",
            "epoch #274\tmean reward = -194.100\tepsilon = 0.032\n",
            "epoch #275\tmean reward = -309.388\tepsilon = 0.032\n",
            "epoch #276\tmean reward = -265.689\tepsilon = 0.031\n",
            "epoch #277\tmean reward = -285.077\tepsilon = 0.031\n",
            "epoch #278\tmean reward = -327.976\tepsilon = 0.031\n",
            "epoch #279\tmean reward = -286.445\tepsilon = 0.030\n",
            "epoch #280\tmean reward = -303.476\tepsilon = 0.030\n",
            "epoch #281\tmean reward = -232.138\tepsilon = 0.030\n",
            "epoch #282\tmean reward = -244.147\tepsilon = 0.029\n",
            "epoch #283\tmean reward = -213.380\tepsilon = 0.029\n",
            "epoch #284\tmean reward = -217.558\tepsilon = 0.029\n",
            "epoch #285\tmean reward = -195.555\tepsilon = 0.029\n",
            "epoch #286\tmean reward = -256.139\tepsilon = 0.028\n",
            "epoch #287\tmean reward = -215.965\tepsilon = 0.028\n",
            "epoch #288\tmean reward = -235.645\tepsilon = 0.028\n",
            "epoch #289\tmean reward = -271.811\tepsilon = 0.027\n",
            "epoch #290\tmean reward = -216.229\tepsilon = 0.027\n",
            "epoch #291\tmean reward = -248.409\tepsilon = 0.027\n",
            "epoch #292\tmean reward = -254.385\tepsilon = 0.027\n",
            "epoch #293\tmean reward = -236.660\tepsilon = 0.026\n",
            "epoch #294\tmean reward = -208.530\tepsilon = 0.026\n",
            "epoch #295\tmean reward = -229.664\tepsilon = 0.026\n",
            "epoch #296\tmean reward = -216.116\tepsilon = 0.026\n",
            "epoch #297\tmean reward = -262.278\tepsilon = 0.025\n",
            "epoch #298\tmean reward = -278.967\tepsilon = 0.025\n",
            "epoch #299\tmean reward = -355.621\tepsilon = 0.025\n",
            "epoch #300\tmean reward = -298.343\tepsilon = 0.025\n",
            "epoch #301\tmean reward = -246.517\tepsilon = 0.024\n",
            "epoch #302\tmean reward = -280.678\tepsilon = 0.024\n",
            "epoch #303\tmean reward = -372.006\tepsilon = 0.024\n",
            "epoch #304\tmean reward = -326.016\tepsilon = 0.024\n",
            "epoch #305\tmean reward = -269.307\tepsilon = 0.023\n",
            "epoch #306\tmean reward = -214.839\tepsilon = 0.023\n",
            "epoch #307\tmean reward = -194.189\tepsilon = 0.023\n",
            "epoch #308\tmean reward = -288.912\tepsilon = 0.023\n",
            "epoch #309\tmean reward = -212.528\tepsilon = 0.022\n",
            "epoch #310\tmean reward = -234.623\tepsilon = 0.022\n",
            "epoch #311\tmean reward = -309.714\tepsilon = 0.022\n",
            "epoch #312\tmean reward = -359.901\tepsilon = 0.022\n",
            "epoch #313\tmean reward = -235.148\tepsilon = 0.022\n",
            "epoch #314\tmean reward = -246.105\tepsilon = 0.021\n",
            "epoch #315\tmean reward = -320.820\tepsilon = 0.021\n",
            "epoch #316\tmean reward = -192.881\tepsilon = 0.021\n",
            "epoch #317\tmean reward = -273.517\tepsilon = 0.021\n",
            "epoch #318\tmean reward = -245.532\tepsilon = 0.020\n",
            "epoch #319\tmean reward = -262.637\tepsilon = 0.020\n",
            "epoch #320\tmean reward = -211.477\tepsilon = 0.020\n",
            "epoch #321\tmean reward = -329.997\tepsilon = 0.020\n",
            "epoch #322\tmean reward = -165.115\tepsilon = 0.020\n",
            "epoch #323\tmean reward = -244.512\tepsilon = 0.019\n",
            "epoch #324\tmean reward = -318.948\tepsilon = 0.019\n",
            "epoch #325\tmean reward = -267.646\tepsilon = 0.019\n",
            "epoch #326\tmean reward = -294.805\tepsilon = 0.019\n",
            "epoch #327\tmean reward = -253.009\tepsilon = 0.019\n",
            "epoch #328\tmean reward = -361.530\tepsilon = 0.019\n",
            "epoch #329\tmean reward = -292.566\tepsilon = 0.018\n",
            "epoch #330\tmean reward = -256.420\tepsilon = 0.018\n",
            "epoch #331\tmean reward = -231.968\tepsilon = 0.018\n",
            "epoch #332\tmean reward = -342.843\tepsilon = 0.018\n",
            "epoch #333\tmean reward = -224.944\tepsilon = 0.018\n",
            "epoch #334\tmean reward = -245.991\tepsilon = 0.017\n",
            "epoch #335\tmean reward = -319.646\tepsilon = 0.017\n",
            "epoch #336\tmean reward = -242.874\tepsilon = 0.017\n",
            "epoch #337\tmean reward = -255.849\tepsilon = 0.017\n",
            "epoch #338\tmean reward = -221.255\tepsilon = 0.017\n",
            "epoch #339\tmean reward = -199.916\tepsilon = 0.017\n",
            "epoch #340\tmean reward = -292.716\tepsilon = 0.016\n",
            "epoch #341\tmean reward = -283.549\tepsilon = 0.016\n",
            "epoch #342\tmean reward = -243.891\tepsilon = 0.016\n",
            "epoch #343\tmean reward = -306.955\tepsilon = 0.016\n",
            "epoch #344\tmean reward = -261.190\tepsilon = 0.016\n",
            "epoch #345\tmean reward = -299.016\tepsilon = 0.016\n",
            "epoch #346\tmean reward = -220.813\tepsilon = 0.015\n",
            "epoch #347\tmean reward = -272.318\tepsilon = 0.015\n",
            "epoch #348\tmean reward = -197.720\tepsilon = 0.015\n",
            "epoch #349\tmean reward = -227.599\tepsilon = 0.015\n",
            "epoch #350\tmean reward = -237.203\tepsilon = 0.015\n",
            "epoch #351\tmean reward = -258.541\tepsilon = 0.015\n",
            "epoch #352\tmean reward = -330.838\tepsilon = 0.015\n",
            "epoch #353\tmean reward = -280.114\tepsilon = 0.014\n",
            "epoch #354\tmean reward = -333.244\tepsilon = 0.014\n",
            "epoch #355\tmean reward = -237.703\tepsilon = 0.014\n",
            "epoch #356\tmean reward = -291.419\tepsilon = 0.014\n",
            "epoch #357\tmean reward = -240.253\tepsilon = 0.014\n",
            "epoch #358\tmean reward = -238.420\tepsilon = 0.014\n",
            "epoch #359\tmean reward = -255.581\tepsilon = 0.014\n",
            "epoch #360\tmean reward = -248.921\tepsilon = 0.013\n",
            "epoch #361\tmean reward = -182.748\tepsilon = 0.013\n",
            "epoch #362\tmean reward = -273.096\tepsilon = 0.013\n",
            "epoch #363\tmean reward = -258.559\tepsilon = 0.013\n",
            "epoch #364\tmean reward = -296.424\tepsilon = 0.013\n",
            "epoch #365\tmean reward = -289.870\tepsilon = 0.013\n",
            "epoch #366\tmean reward = -279.727\tepsilon = 0.013\n",
            "epoch #367\tmean reward = -264.505\tepsilon = 0.013\n",
            "epoch #368\tmean reward = -240.693\tepsilon = 0.012\n",
            "epoch #369\tmean reward = -210.550\tepsilon = 0.012\n",
            "epoch #370\tmean reward = -309.264\tepsilon = 0.012\n",
            "epoch #371\tmean reward = -230.992\tepsilon = 0.012\n",
            "epoch #372\tmean reward = -242.233\tepsilon = 0.012\n",
            "epoch #373\tmean reward = -257.096\tepsilon = 0.012\n",
            "epoch #374\tmean reward = -186.582\tepsilon = 0.012\n",
            "epoch #375\tmean reward = -277.885\tepsilon = 0.012\n",
            "epoch #376\tmean reward = -178.983\tepsilon = 0.011\n",
            "epoch #377\tmean reward = -300.523\tepsilon = 0.011\n",
            "epoch #378\tmean reward = -237.606\tepsilon = 0.011\n",
            "epoch #379\tmean reward = -223.669\tepsilon = 0.011\n",
            "epoch #380\tmean reward = -162.861\tepsilon = 0.011\n",
            "epoch #381\tmean reward = -218.593\tepsilon = 0.011\n",
            "epoch #382\tmean reward = -278.545\tepsilon = 0.011\n",
            "epoch #383\tmean reward = -215.785\tepsilon = 0.011\n",
            "epoch #384\tmean reward = -222.952\tepsilon = 0.011\n",
            "epoch #385\tmean reward = -250.158\tepsilon = 0.010\n",
            "epoch #386\tmean reward = -165.157\tepsilon = 0.010\n",
            "epoch #387\tmean reward = -308.964\tepsilon = 0.010\n",
            "epoch #388\tmean reward = -295.140\tepsilon = 0.010\n",
            "epoch #389\tmean reward = -294.975\tepsilon = 0.010\n",
            "epoch #390\tmean reward = -193.683\tepsilon = 0.300\n",
            "epoch #391\tmean reward = -170.588\tepsilon = 0.297\n",
            "epoch #392\tmean reward = -212.108\tepsilon = 0.294\n",
            "epoch #393\tmean reward = -142.287\tepsilon = 0.291\n",
            "epoch #394\tmean reward = -120.450\tepsilon = 0.288\n",
            "epoch #395\tmean reward = -258.971\tepsilon = 0.285\n",
            "epoch #396\tmean reward = -282.054\tepsilon = 0.282\n",
            "epoch #397\tmean reward = -253.331\tepsilon = 0.280\n",
            "epoch #398\tmean reward = -294.021\tepsilon = 0.277\n",
            "epoch #399\tmean reward = -255.727\tepsilon = 0.274\n",
            "epoch #400\tmean reward = -244.642\tepsilon = 0.271\n",
            "epoch #401\tmean reward = -219.267\tepsilon = 0.269\n",
            "epoch #402\tmean reward = -224.906\tepsilon = 0.266\n",
            "epoch #403\tmean reward = -296.120\tepsilon = 0.263\n",
            "epoch #404\tmean reward = -206.631\tepsilon = 0.261\n",
            "epoch #405\tmean reward = -249.332\tepsilon = 0.258\n",
            "epoch #406\tmean reward = -259.550\tepsilon = 0.255\n",
            "epoch #407\tmean reward = -202.797\tepsilon = 0.253\n",
            "epoch #408\tmean reward = -220.301\tepsilon = 0.250\n",
            "epoch #409\tmean reward = -225.719\tepsilon = 0.248\n",
            "epoch #410\tmean reward = -276.421\tepsilon = 0.245\n",
            "epoch #411\tmean reward = -314.066\tepsilon = 0.243\n",
            "epoch #412\tmean reward = -178.961\tepsilon = 0.240\n",
            "epoch #413\tmean reward = -218.903\tepsilon = 0.238\n",
            "epoch #414\tmean reward = -212.291\tepsilon = 0.236\n",
            "epoch #415\tmean reward = -247.121\tepsilon = 0.233\n",
            "epoch #416\tmean reward = -201.982\tepsilon = 0.231\n",
            "epoch #417\tmean reward = -186.880\tepsilon = 0.229\n",
            "epoch #418\tmean reward = -123.030\tepsilon = 0.226\n",
            "epoch #419\tmean reward = -246.280\tepsilon = 0.224\n",
            "epoch #420\tmean reward = -162.258\tepsilon = 0.222\n",
            "epoch #421\tmean reward = -151.454\tepsilon = 0.220\n",
            "epoch #422\tmean reward = -295.190\tepsilon = 0.217\n",
            "epoch #423\tmean reward = -170.793\tepsilon = 0.215\n",
            "epoch #424\tmean reward = -214.467\tepsilon = 0.213\n",
            "epoch #425\tmean reward = -297.025\tepsilon = 0.211\n",
            "epoch #426\tmean reward = -254.585\tepsilon = 0.209\n",
            "epoch #427\tmean reward = -236.020\tepsilon = 0.207\n",
            "epoch #428\tmean reward = -213.096\tepsilon = 0.205\n",
            "epoch #429\tmean reward = -257.270\tepsilon = 0.203\n",
            "epoch #430\tmean reward = -271.329\tepsilon = 0.201\n",
            "epoch #431\tmean reward = -235.050\tepsilon = 0.199\n",
            "epoch #432\tmean reward = -187.418\tepsilon = 0.197\n",
            "epoch #433\tmean reward = -205.733\tepsilon = 0.195\n",
            "epoch #434\tmean reward = -204.987\tepsilon = 0.193\n",
            "epoch #435\tmean reward = -225.956\tepsilon = 0.191\n",
            "epoch #436\tmean reward = -201.357\tepsilon = 0.189\n",
            "epoch #437\tmean reward = -219.475\tepsilon = 0.187\n",
            "epoch #438\tmean reward = -185.335\tepsilon = 0.185\n",
            "epoch #439\tmean reward = -235.769\tepsilon = 0.183\n",
            "epoch #440\tmean reward = -211.141\tepsilon = 0.182\n",
            "epoch #441\tmean reward = -215.847\tepsilon = 0.180\n",
            "epoch #442\tmean reward = -243.561\tepsilon = 0.178\n",
            "epoch #443\tmean reward = -62.997\tepsilon = 0.176\n",
            "epoch #444\tmean reward = -152.660\tepsilon = 0.174\n",
            "epoch #445\tmean reward = -105.832\tepsilon = 0.173\n",
            "epoch #446\tmean reward = -198.570\tepsilon = 0.171\n",
            "epoch #447\tmean reward = -268.140\tepsilon = 0.169\n",
            "epoch #448\tmean reward = -329.548\tepsilon = 0.167\n",
            "epoch #449\tmean reward = -246.535\tepsilon = 0.166\n",
            "epoch #450\tmean reward = -196.312\tepsilon = 0.164\n",
            "epoch #451\tmean reward = -288.554\tepsilon = 0.163\n",
            "epoch #452\tmean reward = -179.887\tepsilon = 0.161\n",
            "epoch #453\tmean reward = -201.570\tepsilon = 0.159\n",
            "epoch #454\tmean reward = -224.444\tepsilon = 0.158\n",
            "epoch #455\tmean reward = -224.582\tepsilon = 0.156\n",
            "epoch #456\tmean reward = -254.315\tepsilon = 0.155\n",
            "epoch #457\tmean reward = -247.428\tepsilon = 0.153\n",
            "epoch #458\tmean reward = -280.274\tepsilon = 0.151\n",
            "epoch #459\tmean reward = -247.668\tepsilon = 0.150\n",
            "epoch #460\tmean reward = -217.738\tepsilon = 0.148\n",
            "epoch #461\tmean reward = -271.125\tepsilon = 0.147\n",
            "epoch #462\tmean reward = -251.266\tepsilon = 0.145\n",
            "epoch #463\tmean reward = -198.847\tepsilon = 0.144\n",
            "epoch #464\tmean reward = -279.366\tepsilon = 0.143\n",
            "epoch #465\tmean reward = -199.947\tepsilon = 0.141\n",
            "epoch #466\tmean reward = -194.556\tepsilon = 0.140\n",
            "epoch #467\tmean reward = -297.404\tepsilon = 0.138\n",
            "epoch #468\tmean reward = -320.574\tepsilon = 0.137\n",
            "epoch #469\tmean reward = -240.321\tepsilon = 0.136\n",
            "epoch #470\tmean reward = -188.735\tepsilon = 0.134\n",
            "epoch #471\tmean reward = -163.367\tepsilon = 0.133\n",
            "epoch #472\tmean reward = -193.266\tepsilon = 0.132\n",
            "epoch #473\tmean reward = -209.675\tepsilon = 0.130\n",
            "epoch #474\tmean reward = -225.360\tepsilon = 0.129\n",
            "epoch #475\tmean reward = -228.085\tepsilon = 0.128\n",
            "epoch #476\tmean reward = -210.318\tepsilon = 0.126\n",
            "epoch #477\tmean reward = -294.115\tepsilon = 0.125\n",
            "epoch #478\tmean reward = -221.292\tepsilon = 0.124\n",
            "epoch #479\tmean reward = -267.789\tepsilon = 0.123\n",
            "epoch #480\tmean reward = -225.594\tepsilon = 0.121\n",
            "epoch #481\tmean reward = -200.515\tepsilon = 0.120\n",
            "epoch #482\tmean reward = -237.582\tepsilon = 0.119\n",
            "epoch #483\tmean reward = -210.226\tepsilon = 0.118\n",
            "epoch #484\tmean reward = -155.636\tepsilon = 0.117\n",
            "epoch #485\tmean reward = -230.176\tepsilon = 0.115\n",
            "epoch #486\tmean reward = -209.003\tepsilon = 0.114\n",
            "epoch #487\tmean reward = -248.469\tepsilon = 0.113\n",
            "epoch #488\tmean reward = -192.290\tepsilon = 0.112\n",
            "epoch #489\tmean reward = -279.757\tepsilon = 0.111\n",
            "epoch #490\tmean reward = -184.036\tepsilon = 0.110\n",
            "epoch #491\tmean reward = -160.435\tepsilon = 0.109\n",
            "epoch #492\tmean reward = -171.767\tepsilon = 0.108\n",
            "epoch #493\tmean reward = -161.842\tepsilon = 0.107\n",
            "epoch #494\tmean reward = -144.584\tepsilon = 0.105\n",
            "epoch #495\tmean reward = -197.307\tepsilon = 0.104\n",
            "epoch #496\tmean reward = -274.717\tepsilon = 0.103\n",
            "epoch #497\tmean reward = -335.473\tepsilon = 0.102\n",
            "epoch #498\tmean reward = -254.820\tepsilon = 0.101\n",
            "epoch #499\tmean reward = -225.146\tepsilon = 0.100\n",
            "epoch #500\tmean reward = -248.940\tepsilon = 0.099\n",
            "epoch #501\tmean reward = -188.859\tepsilon = 0.098\n",
            "epoch #502\tmean reward = -279.697\tepsilon = 0.097\n",
            "epoch #503\tmean reward = -193.441\tepsilon = 0.096\n",
            "epoch #504\tmean reward = -276.006\tepsilon = 0.095\n",
            "epoch #505\tmean reward = -204.696\tepsilon = 0.094\n",
            "epoch #506\tmean reward = -196.717\tepsilon = 0.093\n",
            "epoch #507\tmean reward = -205.428\tepsilon = 0.093\n",
            "epoch #508\tmean reward = -238.691\tepsilon = 0.092\n",
            "epoch #509\tmean reward = -146.369\tepsilon = 0.091\n",
            "epoch #510\tmean reward = -277.200\tepsilon = 0.090\n",
            "epoch #511\tmean reward = -294.682\tepsilon = 0.089\n",
            "epoch #512\tmean reward = -233.156\tepsilon = 0.088\n",
            "epoch #513\tmean reward = -285.927\tepsilon = 0.087\n",
            "epoch #514\tmean reward = -237.850\tepsilon = 0.086\n",
            "epoch #515\tmean reward = -281.426\tepsilon = 0.085\n",
            "epoch #516\tmean reward = -243.592\tepsilon = 0.085\n",
            "epoch #517\tmean reward = -194.394\tepsilon = 0.084\n",
            "epoch #518\tmean reward = -249.383\tepsilon = 0.083\n",
            "epoch #519\tmean reward = -252.797\tepsilon = 0.082\n",
            "epoch #520\tmean reward = -252.725\tepsilon = 0.081\n",
            "epoch #521\tmean reward = -215.617\tepsilon = 0.080\n",
            "epoch #522\tmean reward = -182.644\tepsilon = 0.080\n",
            "epoch #523\tmean reward = -292.633\tepsilon = 0.079\n",
            "epoch #524\tmean reward = -251.159\tepsilon = 0.078\n",
            "epoch #525\tmean reward = -204.824\tepsilon = 0.077\n",
            "epoch #526\tmean reward = -245.312\tepsilon = 0.076\n",
            "epoch #527\tmean reward = -290.515\tepsilon = 0.076\n",
            "epoch #528\tmean reward = -318.410\tepsilon = 0.075\n",
            "epoch #529\tmean reward = -230.902\tepsilon = 0.074\n",
            "epoch #530\tmean reward = -126.172\tepsilon = 0.073\n",
            "epoch #531\tmean reward = -216.946\tepsilon = 0.073\n",
            "epoch #532\tmean reward = -222.689\tepsilon = 0.072\n",
            "epoch #533\tmean reward = -263.901\tepsilon = 0.071\n",
            "epoch #534\tmean reward = -217.091\tepsilon = 0.071\n",
            "epoch #535\tmean reward = -216.613\tepsilon = 0.070\n",
            "epoch #536\tmean reward = -174.241\tepsilon = 0.069\n",
            "epoch #537\tmean reward = -258.340\tepsilon = 0.068\n",
            "epoch #538\tmean reward = -240.822\tepsilon = 0.068\n",
            "epoch #539\tmean reward = -222.115\tepsilon = 0.067\n",
            "epoch #540\tmean reward = -256.196\tepsilon = 0.066\n",
            "epoch #541\tmean reward = -254.571\tepsilon = 0.066\n",
            "epoch #542\tmean reward = -317.358\tepsilon = 0.065\n",
            "epoch #543\tmean reward = -167.462\tepsilon = 0.064\n",
            "epoch #544\tmean reward = -271.363\tepsilon = 0.064\n",
            "epoch #545\tmean reward = -186.504\tepsilon = 0.063\n",
            "epoch #546\tmean reward = -173.189\tepsilon = 0.063\n",
            "epoch #547\tmean reward = -291.433\tepsilon = 0.062\n",
            "epoch #548\tmean reward = -222.803\tepsilon = 0.061\n",
            "epoch #549\tmean reward = -134.904\tepsilon = 0.061\n",
            "epoch #550\tmean reward = -235.770\tepsilon = 0.060\n",
            "epoch #551\tmean reward = -301.717\tepsilon = 0.059\n",
            "epoch #552\tmean reward = -257.519\tepsilon = 0.059\n",
            "epoch #553\tmean reward = -160.470\tepsilon = 0.058\n",
            "epoch #554\tmean reward = -244.139\tepsilon = 0.058\n",
            "epoch #555\tmean reward = -195.434\tepsilon = 0.057\n",
            "epoch #556\tmean reward = -163.621\tepsilon = 0.057\n",
            "epoch #557\tmean reward = -270.040\tepsilon = 0.056\n",
            "epoch #558\tmean reward = -213.486\tepsilon = 0.055\n",
            "epoch #559\tmean reward = -248.554\tepsilon = 0.055\n",
            "epoch #560\tmean reward = -225.271\tepsilon = 0.054\n",
            "epoch #561\tmean reward = -205.332\tepsilon = 0.054\n",
            "epoch #562\tmean reward = -244.724\tepsilon = 0.053\n",
            "epoch #563\tmean reward = -235.584\tepsilon = 0.053\n",
            "epoch #564\tmean reward = -215.124\tepsilon = 0.052\n",
            "epoch #565\tmean reward = -189.031\tepsilon = 0.052\n",
            "epoch #566\tmean reward = -292.987\tepsilon = 0.051\n",
            "epoch #567\tmean reward = -281.137\tepsilon = 0.051\n",
            "epoch #568\tmean reward = -260.397\tepsilon = 0.050\n",
            "epoch #569\tmean reward = -344.862\tepsilon = 0.050\n",
            "epoch #570\tmean reward = -153.846\tepsilon = 0.049\n",
            "epoch #571\tmean reward = -248.938\tepsilon = 0.049\n",
            "epoch #572\tmean reward = -178.873\tepsilon = 0.048\n",
            "epoch #573\tmean reward = -196.696\tepsilon = 0.048\n",
            "epoch #574\tmean reward = -266.162\tepsilon = 0.047\n",
            "epoch #575\tmean reward = -331.743\tepsilon = 0.047\n",
            "epoch #576\tmean reward = -272.787\tepsilon = 0.046\n",
            "epoch #577\tmean reward = -222.229\tepsilon = 0.046\n",
            "epoch #578\tmean reward = -258.247\tepsilon = 0.045\n",
            "epoch #579\tmean reward = -180.882\tepsilon = 0.045\n",
            "epoch #580\tmean reward = -242.586\tepsilon = 0.044\n",
            "epoch #581\tmean reward = -163.655\tepsilon = 0.044\n",
            "epoch #582\tmean reward = -284.478\tepsilon = 0.044\n",
            "epoch #583\tmean reward = -198.437\tepsilon = 0.043\n",
            "epoch #584\tmean reward = -192.341\tepsilon = 0.043\n",
            "epoch #585\tmean reward = -253.636\tepsilon = 0.042\n",
            "epoch #586\tmean reward = -195.627\tepsilon = 0.042\n",
            "epoch #587\tmean reward = -245.081\tepsilon = 0.041\n",
            "epoch #588\tmean reward = -242.784\tepsilon = 0.041\n",
            "epoch #589\tmean reward = -289.969\tepsilon = 0.041\n",
            "epoch #590\tmean reward = -178.519\tepsilon = 0.040\n",
            "epoch #591\tmean reward = -163.819\tepsilon = 0.040\n",
            "epoch #592\tmean reward = -258.080\tepsilon = 0.039\n",
            "epoch #593\tmean reward = -245.240\tepsilon = 0.039\n",
            "epoch #594\tmean reward = -284.498\tepsilon = 0.039\n",
            "epoch #595\tmean reward = -306.200\tepsilon = 0.038\n",
            "epoch #596\tmean reward = -217.208\tepsilon = 0.038\n",
            "epoch #597\tmean reward = -155.534\tepsilon = 0.037\n",
            "epoch #598\tmean reward = -203.212\tepsilon = 0.037\n",
            "epoch #599\tmean reward = -203.250\tepsilon = 0.037\n"
          ],
          "name": "stdout"
        }
      ]
    },
    {
      "cell_type": "code",
      "metadata": {
        "id": "guDnMOOEkuJz",
        "colab_type": "code",
        "colab": {}
      },
      "source": [
        "import glob, io\n",
        "import base64\n",
        "from IPython.display import HTML\n",
        "from IPython import display as ipythondisplay"
      ],
      "execution_count": 0,
      "outputs": []
    },
    {
      "cell_type": "code",
      "metadata": {
        "id": "GYD8wh5NVRci",
        "colab_type": "code",
        "outputId": "c0e3aedf-2489-4b5c-ae31-8b14ac3b1679",
        "colab": {
          "base_uri": "https://localhost:8080/",
          "height": 566
        }
      },
      "source": [
        "import gym.wrappers\n",
        "env = gym.wrappers.Monitor(gym.make(\"LunarLander-v2\"),directory=\"videos\",force=True)\n",
        "sessions = [generate_session(epsilon=0, train=False) for _ in range(1000)]\n",
        "env.close()\n",
        "\n",
        "\n",
        "def show_video():\n",
        "  mp4list = glob.glob('videos/*.mp4')\n",
        "  if len(mp4list) > 0:\n",
        "    mp4 = mp4list[0]\n",
        "    video = io.open(mp4, 'r+b').read()\n",
        "    encoded = base64.b64encode(video)\n",
        "    ipythondisplay.display(HTML(data='''<video alt=\"test\" autoplay \n",
        "                loop controls style=\"height: 400px;\">\n",
        "                <source src=\"data:video/mp4;base64,{0}\" type=\"video/mp4\" />\n",
        "             </video>'''.format(encoded.decode('ascii'))))\n",
        "  else: \n",
        "    print(\"Could not find video\")\n",
        "    "
      ],
      "execution_count": 0,
      "outputs": [
        {
          "output_type": "error",
          "ename": "ModuleNotFoundError",
          "evalue": "ignored",
          "traceback": [
            "\u001b[0;31m---------------------------------------------------------------------------\u001b[0m",
            "\u001b[0;31mModuleNotFoundError\u001b[0m                       Traceback (most recent call last)",
            "\u001b[0;32m<ipython-input-1-ebef9cb254bf>\u001b[0m in \u001b[0;36m<module>\u001b[0;34m()\u001b[0m\n\u001b[1;32m      1\u001b[0m \u001b[0;32mimport\u001b[0m \u001b[0mgym\u001b[0m\u001b[0;34m.\u001b[0m\u001b[0mwrappers\u001b[0m\u001b[0;34m\u001b[0m\u001b[0;34m\u001b[0m\u001b[0m\n\u001b[0;32m----> 2\u001b[0;31m \u001b[0menv\u001b[0m \u001b[0;34m=\u001b[0m \u001b[0mgym\u001b[0m\u001b[0;34m.\u001b[0m\u001b[0mwrappers\u001b[0m\u001b[0;34m.\u001b[0m\u001b[0mMonitor\u001b[0m\u001b[0;34m(\u001b[0m\u001b[0mgym\u001b[0m\u001b[0;34m.\u001b[0m\u001b[0mmake\u001b[0m\u001b[0;34m(\u001b[0m\u001b[0;34m\"LunarLander-v2\"\u001b[0m\u001b[0;34m)\u001b[0m\u001b[0;34m,\u001b[0m\u001b[0mdirectory\u001b[0m\u001b[0;34m=\u001b[0m\u001b[0;34m\"videos\"\u001b[0m\u001b[0;34m,\u001b[0m\u001b[0mforce\u001b[0m\u001b[0;34m=\u001b[0m\u001b[0;32mTrue\u001b[0m\u001b[0;34m)\u001b[0m\u001b[0;34m\u001b[0m\u001b[0;34m\u001b[0m\u001b[0m\n\u001b[0m\u001b[1;32m      3\u001b[0m \u001b[0msessions\u001b[0m \u001b[0;34m=\u001b[0m \u001b[0;34m[\u001b[0m\u001b[0mgenerate_session\u001b[0m\u001b[0;34m(\u001b[0m\u001b[0mepsilon\u001b[0m\u001b[0;34m=\u001b[0m\u001b[0;36m0\u001b[0m\u001b[0;34m,\u001b[0m \u001b[0mtrain\u001b[0m\u001b[0;34m=\u001b[0m\u001b[0;32mFalse\u001b[0m\u001b[0;34m)\u001b[0m \u001b[0;32mfor\u001b[0m \u001b[0m_\u001b[0m \u001b[0;32min\u001b[0m \u001b[0mrange\u001b[0m\u001b[0;34m(\u001b[0m\u001b[0;36m1000\u001b[0m\u001b[0;34m)\u001b[0m\u001b[0;34m]\u001b[0m\u001b[0;34m\u001b[0m\u001b[0;34m\u001b[0m\u001b[0m\n\u001b[1;32m      4\u001b[0m \u001b[0menv\u001b[0m\u001b[0;34m.\u001b[0m\u001b[0mclose\u001b[0m\u001b[0;34m(\u001b[0m\u001b[0;34m)\u001b[0m\u001b[0;34m\u001b[0m\u001b[0;34m\u001b[0m\u001b[0m\n\u001b[1;32m      5\u001b[0m \u001b[0;34m\u001b[0m\u001b[0m\n",
            "\u001b[0;32m/usr/local/lib/python3.6/dist-packages/gym/envs/registration.py\u001b[0m in \u001b[0;36mmake\u001b[0;34m(id, **kwargs)\u001b[0m\n\u001b[1;32m    169\u001b[0m \u001b[0;34m\u001b[0m\u001b[0m\n\u001b[1;32m    170\u001b[0m \u001b[0;32mdef\u001b[0m \u001b[0mmake\u001b[0m\u001b[0;34m(\u001b[0m\u001b[0mid\u001b[0m\u001b[0;34m,\u001b[0m \u001b[0;34m**\u001b[0m\u001b[0mkwargs\u001b[0m\u001b[0;34m)\u001b[0m\u001b[0;34m:\u001b[0m\u001b[0;34m\u001b[0m\u001b[0;34m\u001b[0m\u001b[0m\n\u001b[0;32m--> 171\u001b[0;31m     \u001b[0;32mreturn\u001b[0m \u001b[0mregistry\u001b[0m\u001b[0;34m.\u001b[0m\u001b[0mmake\u001b[0m\u001b[0;34m(\u001b[0m\u001b[0mid\u001b[0m\u001b[0;34m,\u001b[0m \u001b[0;34m**\u001b[0m\u001b[0mkwargs\u001b[0m\u001b[0;34m)\u001b[0m\u001b[0;34m\u001b[0m\u001b[0;34m\u001b[0m\u001b[0m\n\u001b[0m\u001b[1;32m    172\u001b[0m \u001b[0;34m\u001b[0m\u001b[0m\n\u001b[1;32m    173\u001b[0m \u001b[0;32mdef\u001b[0m \u001b[0mspec\u001b[0m\u001b[0;34m(\u001b[0m\u001b[0mid\u001b[0m\u001b[0;34m)\u001b[0m\u001b[0;34m:\u001b[0m\u001b[0;34m\u001b[0m\u001b[0;34m\u001b[0m\u001b[0m\n",
            "\u001b[0;32m/usr/local/lib/python3.6/dist-packages/gym/envs/registration.py\u001b[0m in \u001b[0;36mmake\u001b[0;34m(self, id, **kwargs)\u001b[0m\n\u001b[1;32m    121\u001b[0m             \u001b[0mlogger\u001b[0m\u001b[0;34m.\u001b[0m\u001b[0minfo\u001b[0m\u001b[0;34m(\u001b[0m\u001b[0;34m'Making new env: %s'\u001b[0m\u001b[0;34m,\u001b[0m \u001b[0mid\u001b[0m\u001b[0;34m)\u001b[0m\u001b[0;34m\u001b[0m\u001b[0;34m\u001b[0m\u001b[0m\n\u001b[1;32m    122\u001b[0m         \u001b[0mspec\u001b[0m \u001b[0;34m=\u001b[0m \u001b[0mself\u001b[0m\u001b[0;34m.\u001b[0m\u001b[0mspec\u001b[0m\u001b[0;34m(\u001b[0m\u001b[0mid\u001b[0m\u001b[0;34m)\u001b[0m\u001b[0;34m\u001b[0m\u001b[0;34m\u001b[0m\u001b[0m\n\u001b[0;32m--> 123\u001b[0;31m         \u001b[0menv\u001b[0m \u001b[0;34m=\u001b[0m \u001b[0mspec\u001b[0m\u001b[0;34m.\u001b[0m\u001b[0mmake\u001b[0m\u001b[0;34m(\u001b[0m\u001b[0;34m**\u001b[0m\u001b[0mkwargs\u001b[0m\u001b[0;34m)\u001b[0m\u001b[0;34m\u001b[0m\u001b[0;34m\u001b[0m\u001b[0m\n\u001b[0m\u001b[1;32m    124\u001b[0m         \u001b[0;31m# We used to have people override _reset/_step rather than\u001b[0m\u001b[0;34m\u001b[0m\u001b[0;34m\u001b[0m\u001b[0;34m\u001b[0m\u001b[0m\n\u001b[1;32m    125\u001b[0m         \u001b[0;31m# reset/step. Set _gym_disable_underscore_compat = True on\u001b[0m\u001b[0;34m\u001b[0m\u001b[0;34m\u001b[0m\u001b[0;34m\u001b[0m\u001b[0m\n",
            "\u001b[0;32m/usr/local/lib/python3.6/dist-packages/gym/envs/registration.py\u001b[0m in \u001b[0;36mmake\u001b[0;34m(self, **kwargs)\u001b[0m\n\u001b[1;32m     84\u001b[0m             \u001b[0menv\u001b[0m \u001b[0;34m=\u001b[0m \u001b[0mself\u001b[0m\u001b[0;34m.\u001b[0m\u001b[0m_entry_point\u001b[0m\u001b[0;34m(\u001b[0m\u001b[0;34m**\u001b[0m\u001b[0m_kwargs\u001b[0m\u001b[0;34m)\u001b[0m\u001b[0;34m\u001b[0m\u001b[0;34m\u001b[0m\u001b[0m\n\u001b[1;32m     85\u001b[0m         \u001b[0;32melse\u001b[0m\u001b[0;34m:\u001b[0m\u001b[0;34m\u001b[0m\u001b[0;34m\u001b[0m\u001b[0m\n\u001b[0;32m---> 86\u001b[0;31m             \u001b[0mcls\u001b[0m \u001b[0;34m=\u001b[0m \u001b[0mload\u001b[0m\u001b[0;34m(\u001b[0m\u001b[0mself\u001b[0m\u001b[0;34m.\u001b[0m\u001b[0m_entry_point\u001b[0m\u001b[0;34m)\u001b[0m\u001b[0;34m\u001b[0m\u001b[0;34m\u001b[0m\u001b[0m\n\u001b[0m\u001b[1;32m     87\u001b[0m             \u001b[0menv\u001b[0m \u001b[0;34m=\u001b[0m \u001b[0mcls\u001b[0m\u001b[0;34m(\u001b[0m\u001b[0;34m**\u001b[0m\u001b[0m_kwargs\u001b[0m\u001b[0;34m)\u001b[0m\u001b[0;34m\u001b[0m\u001b[0;34m\u001b[0m\u001b[0m\n\u001b[1;32m     88\u001b[0m \u001b[0;34m\u001b[0m\u001b[0m\n",
            "\u001b[0;32m/usr/local/lib/python3.6/dist-packages/gym/envs/registration.py\u001b[0m in \u001b[0;36mload\u001b[0;34m(name)\u001b[0m\n\u001b[1;32m     12\u001b[0m     \u001b[0;32mimport\u001b[0m \u001b[0mpkg_resources\u001b[0m \u001b[0;31m# takes ~400ms to load, so we import it lazily\u001b[0m\u001b[0;34m\u001b[0m\u001b[0;34m\u001b[0m\u001b[0m\n\u001b[1;32m     13\u001b[0m     \u001b[0mentry_point\u001b[0m \u001b[0;34m=\u001b[0m \u001b[0mpkg_resources\u001b[0m\u001b[0;34m.\u001b[0m\u001b[0mEntryPoint\u001b[0m\u001b[0;34m.\u001b[0m\u001b[0mparse\u001b[0m\u001b[0;34m(\u001b[0m\u001b[0;34m'x={}'\u001b[0m\u001b[0;34m.\u001b[0m\u001b[0mformat\u001b[0m\u001b[0;34m(\u001b[0m\u001b[0mname\u001b[0m\u001b[0;34m)\u001b[0m\u001b[0;34m)\u001b[0m\u001b[0;34m\u001b[0m\u001b[0;34m\u001b[0m\u001b[0m\n\u001b[0;32m---> 14\u001b[0;31m     \u001b[0mresult\u001b[0m \u001b[0;34m=\u001b[0m \u001b[0mentry_point\u001b[0m\u001b[0;34m.\u001b[0m\u001b[0mresolve\u001b[0m\u001b[0;34m(\u001b[0m\u001b[0;34m)\u001b[0m\u001b[0;34m\u001b[0m\u001b[0;34m\u001b[0m\u001b[0m\n\u001b[0m\u001b[1;32m     15\u001b[0m     \u001b[0;32mreturn\u001b[0m \u001b[0mresult\u001b[0m\u001b[0;34m\u001b[0m\u001b[0;34m\u001b[0m\u001b[0m\n\u001b[1;32m     16\u001b[0m \u001b[0;34m\u001b[0m\u001b[0m\n",
            "\u001b[0;32m/usr/local/lib/python3.6/dist-packages/pkg_resources/__init__.py\u001b[0m in \u001b[0;36mresolve\u001b[0;34m(self)\u001b[0m\n\u001b[1;32m   2447\u001b[0m         \u001b[0mResolve\u001b[0m \u001b[0mthe\u001b[0m \u001b[0mentry\u001b[0m \u001b[0mpoint\u001b[0m \u001b[0;32mfrom\u001b[0m \u001b[0mits\u001b[0m \u001b[0mmodule\u001b[0m \u001b[0;32mand\u001b[0m \u001b[0mattrs\u001b[0m\u001b[0;34m.\u001b[0m\u001b[0;34m\u001b[0m\u001b[0;34m\u001b[0m\u001b[0m\n\u001b[1;32m   2448\u001b[0m         \"\"\"\n\u001b[0;32m-> 2449\u001b[0;31m         \u001b[0mmodule\u001b[0m \u001b[0;34m=\u001b[0m \u001b[0m__import__\u001b[0m\u001b[0;34m(\u001b[0m\u001b[0mself\u001b[0m\u001b[0;34m.\u001b[0m\u001b[0mmodule_name\u001b[0m\u001b[0;34m,\u001b[0m \u001b[0mfromlist\u001b[0m\u001b[0;34m=\u001b[0m\u001b[0;34m[\u001b[0m\u001b[0;34m'__name__'\u001b[0m\u001b[0;34m]\u001b[0m\u001b[0;34m,\u001b[0m \u001b[0mlevel\u001b[0m\u001b[0;34m=\u001b[0m\u001b[0;36m0\u001b[0m\u001b[0;34m)\u001b[0m\u001b[0;34m\u001b[0m\u001b[0;34m\u001b[0m\u001b[0m\n\u001b[0m\u001b[1;32m   2450\u001b[0m         \u001b[0;32mtry\u001b[0m\u001b[0;34m:\u001b[0m\u001b[0;34m\u001b[0m\u001b[0;34m\u001b[0m\u001b[0m\n\u001b[1;32m   2451\u001b[0m             \u001b[0;32mreturn\u001b[0m \u001b[0mfunctools\u001b[0m\u001b[0;34m.\u001b[0m\u001b[0mreduce\u001b[0m\u001b[0;34m(\u001b[0m\u001b[0mgetattr\u001b[0m\u001b[0;34m,\u001b[0m \u001b[0mself\u001b[0m\u001b[0;34m.\u001b[0m\u001b[0mattrs\u001b[0m\u001b[0;34m,\u001b[0m \u001b[0mmodule\u001b[0m\u001b[0;34m)\u001b[0m\u001b[0;34m\u001b[0m\u001b[0;34m\u001b[0m\u001b[0m\n",
            "\u001b[0;32m/usr/local/lib/python3.6/dist-packages/gym/envs/box2d/__init__.py\u001b[0m in \u001b[0;36m<module>\u001b[0;34m()\u001b[0m\n\u001b[0;32m----> 1\u001b[0;31m \u001b[0;32mfrom\u001b[0m \u001b[0mgym\u001b[0m\u001b[0;34m.\u001b[0m\u001b[0menvs\u001b[0m\u001b[0;34m.\u001b[0m\u001b[0mbox2d\u001b[0m\u001b[0;34m.\u001b[0m\u001b[0mlunar_lander\u001b[0m \u001b[0;32mimport\u001b[0m \u001b[0mLunarLander\u001b[0m\u001b[0;34m\u001b[0m\u001b[0;34m\u001b[0m\u001b[0m\n\u001b[0m\u001b[1;32m      2\u001b[0m \u001b[0;32mfrom\u001b[0m \u001b[0mgym\u001b[0m\u001b[0;34m.\u001b[0m\u001b[0menvs\u001b[0m\u001b[0;34m.\u001b[0m\u001b[0mbox2d\u001b[0m\u001b[0;34m.\u001b[0m\u001b[0mlunar_lander\u001b[0m \u001b[0;32mimport\u001b[0m \u001b[0mLunarLanderContinuous\u001b[0m\u001b[0;34m\u001b[0m\u001b[0;34m\u001b[0m\u001b[0m\n\u001b[1;32m      3\u001b[0m \u001b[0;32mfrom\u001b[0m \u001b[0mgym\u001b[0m\u001b[0;34m.\u001b[0m\u001b[0menvs\u001b[0m\u001b[0;34m.\u001b[0m\u001b[0mbox2d\u001b[0m\u001b[0;34m.\u001b[0m\u001b[0mbipedal_walker\u001b[0m \u001b[0;32mimport\u001b[0m \u001b[0mBipedalWalker\u001b[0m\u001b[0;34m,\u001b[0m \u001b[0mBipedalWalkerHardcore\u001b[0m\u001b[0;34m\u001b[0m\u001b[0;34m\u001b[0m\u001b[0m\n\u001b[1;32m      4\u001b[0m \u001b[0;32mfrom\u001b[0m \u001b[0mgym\u001b[0m\u001b[0;34m.\u001b[0m\u001b[0menvs\u001b[0m\u001b[0;34m.\u001b[0m\u001b[0mbox2d\u001b[0m\u001b[0;34m.\u001b[0m\u001b[0mcar_racing\u001b[0m \u001b[0;32mimport\u001b[0m \u001b[0mCarRacing\u001b[0m\u001b[0;34m\u001b[0m\u001b[0;34m\u001b[0m\u001b[0m\n",
            "\u001b[0;32m/usr/local/lib/python3.6/dist-packages/gym/envs/box2d/lunar_lander.py\u001b[0m in \u001b[0;36m<module>\u001b[0;34m()\u001b[0m\n\u001b[1;32m      2\u001b[0m \u001b[0;32mimport\u001b[0m \u001b[0mnumpy\u001b[0m \u001b[0;32mas\u001b[0m \u001b[0mnp\u001b[0m\u001b[0;34m\u001b[0m\u001b[0;34m\u001b[0m\u001b[0m\n\u001b[1;32m      3\u001b[0m \u001b[0;34m\u001b[0m\u001b[0m\n\u001b[0;32m----> 4\u001b[0;31m \u001b[0;32mimport\u001b[0m \u001b[0mBox2D\u001b[0m\u001b[0;34m\u001b[0m\u001b[0;34m\u001b[0m\u001b[0m\n\u001b[0m\u001b[1;32m      5\u001b[0m \u001b[0;32mfrom\u001b[0m \u001b[0mBox2D\u001b[0m\u001b[0;34m.\u001b[0m\u001b[0mb2\u001b[0m \u001b[0;32mimport\u001b[0m \u001b[0;34m(\u001b[0m\u001b[0medgeShape\u001b[0m\u001b[0;34m,\u001b[0m \u001b[0mcircleShape\u001b[0m\u001b[0;34m,\u001b[0m \u001b[0mfixtureDef\u001b[0m\u001b[0;34m,\u001b[0m \u001b[0mpolygonShape\u001b[0m\u001b[0;34m,\u001b[0m \u001b[0mrevoluteJointDef\u001b[0m\u001b[0;34m,\u001b[0m \u001b[0mcontactListener\u001b[0m\u001b[0;34m)\u001b[0m\u001b[0;34m\u001b[0m\u001b[0;34m\u001b[0m\u001b[0m\n\u001b[1;32m      6\u001b[0m \u001b[0;34m\u001b[0m\u001b[0m\n",
            "\u001b[0;31mModuleNotFoundError\u001b[0m: No module named 'Box2D'",
            "",
            "\u001b[0;31m---------------------------------------------------------------------------\u001b[0;32m\nNOTE: If your import is failing due to a missing package, you can\nmanually install dependencies using either !pip or !apt.\n\nTo view examples of installing some common dependencies, click the\n\"Open Examples\" button below.\n\u001b[0;31m---------------------------------------------------------------------------\u001b[0m\n"
          ]
        }
      ]
    },
    {
      "cell_type": "code",
      "metadata": {
        "id": "6cuNaKswBnV-",
        "colab_type": "code",
        "outputId": "59149365-ada8-4852-899f-8cdb34428330",
        "colab": {
          "base_uri": "https://localhost:8080/",
          "height": 421
        }
      },
      "source": [
        "show_video()"
      ],
      "execution_count": 0,
      "outputs": [
        {
          "output_type": "display_data",
          "data": {
            "text/html": [
              "<video alt=\"test\" autoplay \n",
              "                loop controls style=\"height: 400px;\">\n",
              "                <source src=\"data:video/mp4;base64,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\" type=\"video/mp4\" />\n",
              "             </video>"
            ],
            "text/plain": [
              "<IPython.core.display.HTML object>"
            ]
          },
          "metadata": {
            "tags": []
          }
        }
      ]
    },
    {
      "cell_type": "code",
      "metadata": {
        "id": "6Na4CGnSnDez",
        "colab_type": "code",
        "outputId": "4a3d4eef-2187-44b2-a5ca-02a49ffd08d7",
        "colab": {
          "base_uri": "https://localhost:8080/",
          "height": 36
        }
      },
      "source": [
        "from google.colab import files\n",
        "mp4list = glob.glob('videos/*.mp4')\n",
        "mp4 = str(mp4list[0])\n",
        "files.download(mp4)"
      ],
      "execution_count": 0,
      "outputs": [
        {
          "output_type": "stream",
          "text": [
            "videos/openaigym.video.13.825.video000216.mp4\n"
          ],
          "name": "stdout"
        }
      ]
    },
    {
      "cell_type": "code",
      "metadata": {
        "id": "x7gE2y08oe8K",
        "colab_type": "code",
        "colab": {}
      },
      "source": [
        ""
      ],
      "execution_count": 0,
      "outputs": []
    }
  ]
}